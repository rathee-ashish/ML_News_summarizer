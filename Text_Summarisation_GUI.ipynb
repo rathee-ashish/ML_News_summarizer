{
 "cells": [
  {
   "cell_type": "code",
   "execution_count": 4,
   "id": "63d33ef5",
   "metadata": {
    "id": "63d33ef5"
   },
   "outputs": [],
   "source": [
    "import io\n",
    "import webbrowser\n",
    "import requests\n",
    "from tkinter import *\n",
    "from urllib.request import urlopen\n",
    "from PIL import ImageTk,Image\n",
    "\n",
    "\n",
    "class TextSummerizer:\n",
    "\n",
    "    def __init__(self):\n",
    "\n",
    "        # fetch data\n",
    "        self.data = requests.get('https://newsapi.org/v2/top-headlines?country=in&apiKey=07ce6431517e45c5b04b589c36e5bed6').json()\n",
    "        # initial GUI load\n",
    "        self.load_gui()\n",
    "        # load the 1st news item\n",
    "        self.load_news_item(0)\n",
    "\n",
    "    def load_gui(self):\n",
    "        self.root = Tk()\n",
    "        self.root.geometry('350x600')\n",
    "        self.root.resizable(0,0)\n",
    "        self.root.title('Text Summerizer')\n",
    "        self.root.configure(background='black')\n",
    "\n",
    "    def clear(self):\n",
    "        for i in self.root.pack_slaves():\n",
    "            i.destroy()\n",
    "\n",
    "    def load_news_item(self,index):\n",
    "\n",
    "        # clear the screen for the new news item\n",
    "        self.clear()\n",
    "\n",
    "        # image\n",
    "        try:\n",
    "            img_url = self.data['articles'][index]['urlToImage']\n",
    "            raw_data = urlopen(img_url).read()\n",
    "            im = Image.open(io.BytesIO(raw_data)).resize((350,250))\n",
    "            photo = ImageTk.PhotoImage(im)\n",
    "        except:\n",
    "            img_url = 'https://www.hhireb.com/wp-content/uploads/2019/08/default-no-img.jpg'\n",
    "            raw_data = urlopen(img_url).read()\n",
    "            im = Image.open(io.BytesIO(raw_data)).resize((350, 250))\n",
    "            photo = ImageTk.PhotoImage(im)\n",
    "\n",
    "\n",
    "        label = Label(self.root,image=photo)\n",
    "        label.pack()\n",
    "\n",
    "\n",
    "        heading = Label(self.root,text=self.data['articles'][index]['title'],bg='black',fg='white',wraplength=350,justify='center')\n",
    "        heading.pack(pady=(10,20))\n",
    "        heading.config(font=('verdana',15))\n",
    "\n",
    "        details = Label(self.root, text=self.data['articles'][index]['description'], bg='black', fg='white', wraplength=350,justify='center')\n",
    "        details.pack(pady=(2, 20))\n",
    "        details.config(font=('verdana', 12))\n",
    "\n",
    "        frame = Frame(self.root,bg='black')\n",
    "        frame.pack(expand=True,fill=BOTH)\n",
    "\n",
    "        if index != 0:\n",
    "            prev = Button(frame,text='Prev',width=16,height=3,command=lambda :self.load_news_item(index-1))\n",
    "            prev.pack(side=LEFT)\n",
    "\n",
    "        read = Button(frame, text='Read More', width=16, height=3,command=lambda :self.open_link(self.data['articles'][index]['url']))\n",
    "        read.pack(side=LEFT)\n",
    "\n",
    "        if index != len(self.data['articles'])-1:\n",
    "            next = Button(frame, text='Next', width=16, height=3,command=lambda :self.load_news_item(index+1))\n",
    "            next.pack(side=LEFT)\n",
    "\n",
    "        self.root.mainloop()\n",
    "\n",
    "    def open_link(self,url):\n",
    "        webbrowser.open(url)\n",
    "\n",
    "\n",
    "obj = TextSummerizer()"
   ]
  },
  {
   "cell_type": "code",
   "execution_count": null,
   "id": "cad371f5",
   "metadata": {
    "colab": {
     "base_uri": "https://localhost:8080/"
    },
    "executionInfo": {
     "elapsed": 7869,
     "status": "ok",
     "timestamp": 1675583716960,
     "user": {
      "displayName": "Ashish Rathee",
      "userId": "11020670938656878428"
     },
     "user_tz": -330
    },
    "id": "cad371f5",
    "outputId": "18e30888-dcbe-4494-9d3c-924963cde5e3"
   },
   "outputs": [],
   "source": [
    "\n"
   ]
  },
  {
   "cell_type": "code",
   "execution_count": null,
   "id": "IN8W1Q3pklTQ",
   "metadata": {
    "id": "IN8W1Q3pklTQ"
   },
   "outputs": [],
   "source": []
  }
 ],
 "metadata": {
  "accelerator": "GPU",
  "colab": {
   "provenance": []
  },
  "gpuClass": "standard",
  "kernelspec": {
   "display_name": "Python 3 (ipykernel)",
   "language": "python",
   "name": "python3"
  },
  "language_info": {
   "codemirror_mode": {
    "name": "ipython",
    "version": 3
   },
   "file_extension": ".py",
   "mimetype": "text/x-python",
   "name": "python",
   "nbconvert_exporter": "python",
   "pygments_lexer": "ipython3",
   "version": "3.9.13"
  }
 },
 "nbformat": 4,
 "nbformat_minor": 5
}
